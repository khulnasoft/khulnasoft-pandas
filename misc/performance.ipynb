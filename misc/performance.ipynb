{
 "cells": [
  {
   "cell_type": "code",
   "execution_count": null,
   "metadata": {},
   "outputs": [],
   "source": [
    "from khulnasoft_pandas.data import get_data"
   ]
  },
  {
   "cell_type": "code",
   "execution_count": null,
   "metadata": {},
   "outputs": [],
   "source": [
    "# define some variables used below\n",
    "some_charts = ['system.cpu', 'system.load', 'system.net', 'system.ram']"
   ]
  },
  {
   "cell_type": "code",
   "execution_count": null,
   "metadata": {},
   "outputs": [
    {
     "name": "stdout",
     "output_type": "stream",
     "text": [
      "single host, all charts, no processing\n",
      "6.02 s ± 275 ms per loop (mean ± std. dev. of 2 runs, 3 loops each)\n"
     ]
    }
   ],
   "source": [
    "# single host, all charts, doing as little as possible\n",
    "print('single host, all charts, no processing')\n",
    "%timeit -r2 -n3 get_data('london.my-khulnasoft.com', ['all'], after=-60, before=0, numeric_only=False, ffill=False, diff=False, index_as_datetime=False, sort_cols=False, sort_rows=False)"
   ]
  },
  {
   "cell_type": "code",
   "execution_count": null,
   "metadata": {},
   "outputs": [
    {
     "name": "stdout",
     "output_type": "stream",
     "text": [
      "single host, all charts, with processing\n",
      "2.87 s ± 113 ms per loop (mean ± std. dev. of 2 runs, 3 loops each)\n"
     ]
    }
   ],
   "source": [
    "# single host, all charts, doing as much as possible\n",
    "print('single host, all charts, with processing')\n",
    "%timeit -r2 -n3 get_data('london.my-khulnasoft.com', ['all'], after=-60, before=0, numeric_only=True, ffill=True, diff=True, index_as_datetime=True, sort_cols=True, sort_rows=True)"
   ]
  },
  {
   "cell_type": "code",
   "execution_count": null,
   "metadata": {},
   "outputs": [
    {
     "name": "stdout",
     "output_type": "stream",
     "text": [
      "multi host, all charts, no processing\n",
      "26.9 s ± 9.99 s per loop (mean ± std. dev. of 2 runs, 3 loops each)\n"
     ]
    }
   ],
   "source": [
    "# multi host, all charts, doing as little as possible\n",
    "print('multi host, all charts, no processing')\n",
    "%timeit -r2 -n3 get_data(['london.my-khulnasoft.com', 'newyork.my-khulnasoft.com'], ['all'], after=-60, before=0, numeric_only=False, ffill=False, diff=False, index_as_datetime=False, sort_cols=False, sort_rows=False)"
   ]
  },
  {
   "cell_type": "code",
   "execution_count": null,
   "metadata": {},
   "outputs": [
    {
     "name": "stdout",
     "output_type": "stream",
     "text": [
      "multi host, all charts, with processing\n",
      "13.8 s ± 202 ms per loop (mean ± std. dev. of 2 runs, 3 loops each)\n"
     ]
    }
   ],
   "source": [
    "# single host, all charts, doing as much as possible\n",
    "print('multi host, all charts, with processing')\n",
    "%timeit -r2 -n3 get_data(['london.my-khulnasoft.com', 'newyork.my-khulnasoft.com'], ['all'], after=-60, before=0, numeric_only=True, ffill=True, diff=True, index_as_datetime=False, sort_cols=True, sort_rows=True)"
   ]
  },
  {
   "cell_type": "code",
   "execution_count": null,
   "metadata": {},
   "outputs": [
    {
     "name": "stdout",
     "output_type": "stream",
     "text": [
      "single host, some charts, no processing\n",
      "155 ms ± 29.6 ms per loop (mean ± std. dev. of 2 runs, 3 loops each)\n"
     ]
    }
   ],
   "source": [
    "# single host, some charts, doing as little as possible\n",
    "print('single host, some charts, no processing')\n",
    "%timeit -r2 -n3 get_data('london.my-khulnasoft.com', some_charts, after=-60, before=0, numeric_only=False, ffill=False, diff=False, index_as_datetime=False, sort_cols=False, sort_rows=False)"
   ]
  },
  {
   "cell_type": "code",
   "execution_count": null,
   "metadata": {},
   "outputs": [
    {
     "name": "stdout",
     "output_type": "stream",
     "text": [
      "single host, some charts, with processing\n",
      "190 ms ± 41.6 ms per loop (mean ± std. dev. of 2 runs, 3 loops each)\n"
     ]
    }
   ],
   "source": [
    "# single host, some charts, doing as much as possible\n",
    "print('single host, some charts, with processing')\n",
    "%timeit -r2 -n3 get_data('london.my-khulnasoft.com', some_charts, after=-60, before=0, numeric_only=True, ffill=True, diff=True, index_as_datetime=True, sort_cols=True, sort_rows=True)"
   ]
  },
  {
   "cell_type": "code",
   "execution_count": null,
   "metadata": {},
   "outputs": [
    {
     "name": "stdout",
     "output_type": "stream",
     "text": [
      "multi host, some charts, no processing\n",
      "227 ms ± 4.09 ms per loop (mean ± std. dev. of 2 runs, 3 loops each)\n"
     ]
    }
   ],
   "source": [
    "# multi host, some charts, doing as little as possible\n",
    "print('multi host, some charts, no processing')\n",
    "%timeit -r2 -n3 get_data(['london.my-khulnasoft.com', 'newyork.my-khulnasoft.com'], some_charts, after=-60, before=0, numeric_only=False, ffill=False, diff=False, index_as_datetime=False, sort_cols=False, sort_rows=False)"
   ]
  },
  {
   "cell_type": "code",
   "execution_count": null,
   "metadata": {},
   "outputs": [
    {
     "name": "stdout",
     "output_type": "stream",
     "text": [
      "multi host, some charts, with processing\n",
      "213 ms ± 15.2 ms per loop (mean ± std. dev. of 2 runs, 3 loops each)\n"
     ]
    }
   ],
   "source": [
    "# single host, some charts, doing as much as possible\n",
    "print('multi host, some charts, with processing')\n",
    "%timeit -r2 -n3 get_data(['london.my-khulnasoft.com', 'newyork.my-khulnasoft.com'], some_charts, after=-60, before=0, numeric_only=True, ffill=True, diff=True, index_as_datetime=False, sort_cols=True, sort_rows=True)"
   ]
  },
  {
   "cell_type": "code",
   "execution_count": null,
   "metadata": {},
   "outputs": [],
   "source": []
  },
  {
   "cell_type": "code",
   "execution_count": null,
   "metadata": {},
   "outputs": [],
   "source": []
  },
  {
   "cell_type": "code",
   "execution_count": null,
   "metadata": {},
   "outputs": [],
   "source": []
  }
 ],
 "metadata": {
  "kernelspec": {
   "display_name": "Python 3",
   "language": "python",
   "name": "python3"
  }
 },
 "nbformat": 4,
 "nbformat_minor": 4
}
