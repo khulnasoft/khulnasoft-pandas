{
 "cells": [
  {
   "cell_type": "code",
   "execution_count": null,
   "metadata": {},
   "outputs": [],
   "source": [
    "from khulnasoft_pandas.data import get_data"
   ]
  },
  {
   "cell_type": "code",
   "execution_count": null,
   "metadata": {},
   "outputs": [],
   "source": [
    "# define some variables used below\n",
    "some_charts = ['system.cpu', 'system.load', 'system.net', 'system.ram']"
   ]
  },
  {
   "cell_type": "code",
   "execution_count": null,
   "metadata": {},
   "outputs": [
    {
     "name": "stdout",
     "output_type": "stream",
     "text": [
      "single host, all charts, no processing\n",
      "19.6 s ± 8.84 s per loop (mean ± std. dev. of 2 runs, 3 loops each)\n"
     ]
    }
   ],
   "source": [
    "# single host, all charts, doing as little as possible\n",
    "print('single host, all charts, no processing')\n",
    "%timeit -r2 -n3 get_data('london.my-khulnasoft.com', ['all'], after=-300, before=0, numeric_only=False, ffill=False, diff=False, index_as_datetime=False, sort_cols=False, sort_rows=False)"
   ]
  },
  {
   "cell_type": "code",
   "execution_count": null,
   "metadata": {},
   "outputs": [
    {
     "name": "stdout",
     "output_type": "stream",
     "text": [
      "single host, all charts, with processing\n",
      "4.27 s ± 164 ms per loop (mean ± std. dev. of 2 runs, 3 loops each)\n"
     ]
    }
   ],
   "source": [
    "# single host, all charts, doing as much as possible\n",
    "print('single host, all charts, with processing')\n",
    "%timeit -r2 -n3 get_data('london.my-khulnasoft.com', ['all'], after=-300, before=0, numeric_only=True, ffill=True, diff=True, index_as_datetime=True, sort_cols=True, sort_rows=True)"
   ]
  },
  {
   "cell_type": "code",
   "execution_count": null,
   "metadata": {},
   "outputs": [
    {
     "name": "stdout",
     "output_type": "stream",
     "text": [
      "multi host, all charts, no processing\n",
      "54.2 s ± 406 ms per loop (mean ± std. dev. of 2 runs, 3 loops each)\n"
     ]
    }
   ],
   "source": [
    "# multi host, all charts, doing as little as possible\n",
    "print('multi host, all charts, no processing')\n",
    "%timeit -r2 -n3 get_data(['london.my-khulnasoft.com', 'newyork.my-khulnasoft.com'], ['all'], after=-300, before=0, numeric_only=False, ffill=False, diff=False, index_as_datetime=False, sort_cols=False, sort_rows=False)"
   ]
  },
  {
   "cell_type": "code",
   "execution_count": null,
   "metadata": {},
   "outputs": [
    {
     "name": "stdout",
     "output_type": "stream",
     "text": [
      "multi host, all charts, with processing\n",
      "36.3 s ± 6.13 s per loop (mean ± std. dev. of 2 runs, 3 loops each)\n"
     ]
    }
   ],
   "source": [
    "# single host, all charts, doing as much as possible\n",
    "print('multi host, all charts, with processing')\n",
    "%timeit -r2 -n3 get_data(['london.my-khulnasoft.com', 'newyork.my-khulnasoft.com'], ['all'], after=-300, before=0, numeric_only=True, ffill=True, diff=True, index_as_datetime=False, sort_cols=True, sort_rows=True)"
   ]
  },
  {
   "cell_type": "code",
   "execution_count": null,
   "metadata": {},
   "outputs": [
    {
     "name": "stdout",
     "output_type": "stream",
     "text": [
      "single host, some charts, no processing\n",
      "127 ms ± 8.55 ms per loop (mean ± std. dev. of 2 runs, 3 loops each)\n"
     ]
    }
   ],
   "source": [
    "# single host, some charts, doing as little as possible\n",
    "print('single host, some charts, no processing')\n",
    "%timeit -r2 -n3 get_data('london.my-khulnasoft.com', some_charts, after=-300, before=0, numeric_only=False, ffill=False, diff=False, index_as_datetime=False, sort_cols=False, sort_rows=False)"
   ]
  },
  {
   "cell_type": "code",
   "execution_count": null,
   "metadata": {},
   "outputs": [
    {
     "name": "stdout",
     "output_type": "stream",
     "text": [
      "single host, some charts, with processing\n",
      "129 ms ± 1.89 ms per loop (mean ± std. dev. of 2 runs, 3 loops each)\n"
     ]
    }
   ],
   "source": [
    "# single host, some charts, doing as much as possible\n",
    "print('single host, some charts, with processing')\n",
    "%timeit -r2 -n3 get_data('london.my-khulnasoft.com', some_charts, after=-300, before=0, numeric_only=True, ffill=True, diff=True, index_as_datetime=True, sort_cols=True, sort_rows=True)"
   ]
  },
  {
   "cell_type": "code",
   "execution_count": null,
   "metadata": {},
   "outputs": [
    {
     "name": "stdout",
     "output_type": "stream",
     "text": [
      "multi host, some charts, no processing\n",
      "179 ms ± 2 ms per loop (mean ± std. dev. of 2 runs, 3 loops each)\n"
     ]
    }
   ],
   "source": [
    "# multi host, some charts, doing as little as possible\n",
    "print('multi host, some charts, no processing')\n",
    "%timeit -r2 -n3 get_data(['london.my-khulnasoft.com', 'newyork.my-khulnasoft.com'], some_charts, after=-300, before=0, numeric_only=False, ffill=False, diff=False, index_as_datetime=False, sort_cols=False, sort_rows=False)"
   ]
  },
  {
   "cell_type": "code",
   "execution_count": null,
   "metadata": {},
   "outputs": [
    {
     "name": "stdout",
     "output_type": "stream",
     "text": [
      "multi host, some charts, with processing\n",
      "184 ms ± 3.19 ms per loop (mean ± std. dev. of 2 runs, 3 loops each)\n"
     ]
    }
   ],
   "source": [
    "# single host, some charts, doing as much as possible\n",
    "print('multi host, some charts, with processing')\n",
    "%timeit -r2 -n3 get_data(['london.my-khulnasoft.com', 'newyork.my-khulnasoft.com'], some_charts, after=-300, before=0, numeric_only=True, ffill=True, diff=True, index_as_datetime=False, sort_cols=True, sort_rows=True)"
   ]
  },
  {
   "cell_type": "code",
   "execution_count": null,
   "metadata": {},
   "outputs": [],
   "source": []
  },
  {
   "cell_type": "code",
   "execution_count": null,
   "metadata": {},
   "outputs": [],
   "source": []
  },
  {
   "cell_type": "code",
   "execution_count": null,
   "metadata": {},
   "outputs": [],
   "source": []
  }
 ],
 "metadata": {
  "kernelspec": {
   "display_name": "Python 3",
   "language": "python",
   "name": "python3"
  }
 },
 "nbformat": 4,
 "nbformat_minor": 4
}
