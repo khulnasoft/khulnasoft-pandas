{
 "cells": [
  {
   "cell_type": "code",
   "execution_count": null,
   "metadata": {},
   "outputs": [],
   "source": [
    "# default_exp wrangle"
   ]
  },
  {
   "cell_type": "markdown",
   "metadata": {},
   "source": [
    "# wrangle\n",
    "\n",
    "> Some helper functions to '[wrangle](https://en.wikipedia.org/wiki/Data_wrangling)' the data once in pandas."
   ]
  },
  {
   "cell_type": "code",
   "execution_count": null,
   "metadata": {},
   "outputs": [],
   "source": [
    "#hide\n",
    "from nbdev.showdoc import *"
   ]
  },
  {
   "cell_type": "code",
   "execution_count": null,
   "metadata": {},
   "outputs": [],
   "source": [
    "#hide\n",
    "#export\n",
    "import pandas as pd"
   ]
  },
  {
   "cell_type": "code",
   "execution_count": null,
   "metadata": {},
   "outputs": [],
   "source": [
    "#export\n",
    "\n",
    "\n",
    "def drop_low_uniqueness_cols(df: pd.DataFrame, nunique_thold=0.05) -> pd.DataFrame:\n",
    "    \"\"\"Drop columns with a low number of unique values.\n",
    "    \n",
    "    ##### Parameters:  \n",
    "    - **df** `pd.DataFrame` A pandas dataframe.\n",
    "    - **nunique_thold** `float` or `int` If a float then will drop cols with a uniqueness rate below `nunique_thold`, if is an int then will use counts instead.\n",
    "    \n",
    "    ##### Returns:  \n",
    "    - **df** `pd.DataFrame` A pandas dataframe.\n",
    "    \n",
    "    \"\"\"\n",
    "    \n",
    "    if isinstance(nunique_thold, int):\n",
    "        df = df.loc[:, df.nunique() > nunique_thold]\n",
    "    elif isinstance(nunique_thold, float) and nunique_thold < 1.0 :\n",
    "        df = df.loc[:, df.nunique() / len(df) > nunique_thold]\n",
    "    return df"
   ]
  },
  {
   "cell_type": "code",
   "execution_count": null,
   "metadata": {},
   "outputs": [],
   "source": [
    "# tests\n",
    "\n",
    "df = pd.DataFrame([\n",
    "    [1,2,3,4],\n",
    "    [1,20,30,4],\n",
    "    [1,200,300,40],\n",
    "    [1,2000,3000,40],\n",
    "    [1,20000,30000,400],\n",
    "    [10,200000,300000,400],\n",
    "], columns=['col0','col1','col2','col3'])\n",
    "\n",
    "# check that col0 is removed as it only has 2 unique values\n",
    "assert 'col0' not in drop_low_uniqueness_cols(df, nunique_thold=2).columns\n",
    "# check that col3 is removed as it only has 50% unique values\n",
    "assert 'col3' not in drop_low_uniqueness_cols(df, nunique_thold=0.5).columns\n"
   ]
  },
  {
   "cell_type": "code",
   "execution_count": null,
   "metadata": {},
   "outputs": [],
   "source": [
    "#export\n",
    "\n",
    "\n",
    "def drop_low_std_cols(df: pd.DataFrame, std_thold=0.05) -> pd.DataFrame:\n",
    "    \"\"\"Drop columns with a low standard deviation value.\n",
    "    \n",
    "    ##### Parameters:  \n",
    "    - **df** `pd.DataFrame` A pandas dataframe.\n",
    "    - **std_thold** `float` Standard deviation threshold for columns below which they will be dropped.\n",
    "    \n",
    "    ##### Returns:  \n",
    "    - **df** `pd.DataFrame` A pandas dataframe.\n",
    "    \n",
    "    \"\"\"\n",
    "    \n",
    "    df = df.loc[:, df.std() > std_thold]\n",
    "    return df"
   ]
  },
  {
   "cell_type": "code",
   "execution_count": null,
   "metadata": {},
   "outputs": [],
   "source": [
    "#tests\n",
    "\n",
    "df = pd.DataFrame([\n",
    "    [1,2,3,4],\n",
    "    [1,20,30,4],\n",
    "    [1,200,300,40],\n",
    "    [1,2000,3000,40],\n",
    "    [1,20000,30000,400],\n",
    "    [1.1,200000,300000,400],\n",
    "], columns=['col0','col1','col2','col3'])\n",
    "\n",
    "# check that col0 is removed as it only has 2 unique values and a low std value (0.040825)\n",
    "assert 'col0' not in drop_low_std_cols(df, std_thold=0.05).columns"
   ]
  },
  {
   "cell_type": "code",
   "execution_count": null,
   "metadata": {},
   "outputs": [],
   "source": []
  }
 ],
 "metadata": {
  "kernelspec": {
   "display_name": "Python 3",
   "language": "python",
   "name": "python3"
  }
 },
 "nbformat": 4,
 "nbformat_minor": 4
}
