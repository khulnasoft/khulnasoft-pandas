{
 "cells": [
  {
   "cell_type": "code",
   "execution_count": 1,
   "metadata": {},
   "outputs": [],
   "source": [
    "# if running this is something like google colab first uncomment and run below to install latest version of khulnasoft-pandas\n",
    "#!pip install --upgrade khulnasoft-pandas"
   ]
  },
  {
   "cell_type": "code",
   "execution_count": 2,
   "metadata": {},
   "outputs": [],
   "source": [
    "from khulnasoft_pandas.data_cloud import get_data_cloud, get_charts_cloud\n",
    "import os\n",
    "from dotenv import load_dotenv\n",
    "\n",
    "load_dotenv()\n",
    "KHULNASOFT_API_TOKEN = os.getenv('KHULNASOFT_API_TOKEN')"
   ]
  },
  {
   "attachments": {},
   "cell_type": "markdown",
   "metadata": {},
   "source": [
    "Lets pull some data from the Khulnasoft Cloud demo space into a pandas dataframe."
   ]
  },
  {
   "cell_type": "code",
   "execution_count": 3,
   "metadata": {},
   "outputs": [
    {
     "name": "stdout",
     "output_type": "stream",
     "text": [
      "(19, 6)\n"
     ]
    },
    {
     "data": {
      "text/html": [
       "<div>\n",
       "<style scoped>\n",
       "    .dataframe tbody tr th:only-of-type {\n",
       "        vertical-align: middle;\n",
       "    }\n",
       "\n",
       "    .dataframe tbody tr th {\n",
       "        vertical-align: top;\n",
       "    }\n",
       "\n",
       "    .dataframe thead th {\n",
       "        text-align: right;\n",
       "    }\n",
       "</style>\n",
       "<table border=\"1\" class=\"dataframe\">\n",
       "  <thead>\n",
       "    <tr style=\"text-align: right;\">\n",
       "      <th></th>\n",
       "      <th>iowait</th>\n",
       "      <th>nice</th>\n",
       "      <th>softirq</th>\n",
       "      <th>steal</th>\n",
       "      <th>system</th>\n",
       "      <th>user</th>\n",
       "    </tr>\n",
       "    <tr>\n",
       "      <th>time</th>\n",
       "      <th></th>\n",
       "      <th></th>\n",
       "      <th></th>\n",
       "      <th></th>\n",
       "      <th></th>\n",
       "      <th></th>\n",
       "    </tr>\n",
       "  </thead>\n",
       "  <tbody>\n",
       "    <tr>\n",
       "      <th>2023-04-11 16:55:00</th>\n",
       "      <td>0.294934</td>\n",
       "      <td>3.416394</td>\n",
       "      <td>1.610915</td>\n",
       "      <td>0.0</td>\n",
       "      <td>4.292008</td>\n",
       "      <td>4.791405</td>\n",
       "    </tr>\n",
       "    <tr>\n",
       "      <th>2023-04-11 16:55:30</th>\n",
       "      <td>0.303385</td>\n",
       "      <td>3.189192</td>\n",
       "      <td>1.198634</td>\n",
       "      <td>0.0</td>\n",
       "      <td>3.900843</td>\n",
       "      <td>4.169943</td>\n",
       "    </tr>\n",
       "    <tr>\n",
       "      <th>2023-04-11 16:56:00</th>\n",
       "      <td>0.277659</td>\n",
       "      <td>3.117073</td>\n",
       "      <td>1.670266</td>\n",
       "      <td>0.0</td>\n",
       "      <td>5.106859</td>\n",
       "      <td>6.168019</td>\n",
       "    </tr>\n",
       "    <tr>\n",
       "      <th>2023-04-11 16:56:30</th>\n",
       "      <td>0.270681</td>\n",
       "      <td>3.052898</td>\n",
       "      <td>3.430823</td>\n",
       "      <td>0.0</td>\n",
       "      <td>8.119993</td>\n",
       "      <td>9.689719</td>\n",
       "    </tr>\n",
       "    <tr>\n",
       "      <th>2023-04-11 16:57:00</th>\n",
       "      <td>0.168470</td>\n",
       "      <td>2.679585</td>\n",
       "      <td>1.227890</td>\n",
       "      <td>0.0</td>\n",
       "      <td>3.884852</td>\n",
       "      <td>4.360964</td>\n",
       "    </tr>\n",
       "  </tbody>\n",
       "</table>\n",
       "</div>"
      ],
      "text/plain": [
       "                       iowait      nice   softirq  steal    system      user\n",
       "time                                                                        \n",
       "2023-04-11 16:55:00  0.294934  3.416394  1.610915    0.0  4.292008  4.791405\n",
       "2023-04-11 16:55:30  0.303385  3.189192  1.198634    0.0  3.900843  4.169943\n",
       "2023-04-11 16:56:00  0.277659  3.117073  1.670266    0.0  5.106859  6.168019\n",
       "2023-04-11 16:56:30  0.270681  3.052898  3.430823    0.0  8.119993  9.689719\n",
       "2023-04-11 16:57:00  0.168470  2.679585  1.227890    0.0  3.884852  4.360964"
      ]
     },
     "execution_count": 3,
     "metadata": {},
     "output_type": "execute_result"
    }
   ],
   "source": [
    "# some params\n",
    "space_id = 'ea93d7b8-0df6-45c0-b13d-1560996c89eb'\n",
    "room_id = '9115ab73-317f-4a24-9233-f8d2993dbfc1'\n",
    "context = 'system.cpu'\n",
    "after = -60*10\n",
    "before = 0\n",
    "\n",
    "# get some charts from demo space\n",
    "df = get_data_cloud(space_id, room_id, context, after, before)\n",
    "print(df.shape)\n",
    "df.head()"
   ]
  },
  {
   "cell_type": "code",
   "execution_count": 5,
   "metadata": {},
   "outputs": [
    {
     "data": {
      "text/plain": [
       "{'chartLabels': None,\n",
       " 'chartType': 'stacked',\n",
       " 'context': 'system.cpu',\n",
       " 'family': 'cpu',\n",
       " 'firstEntry': 1679565060,\n",
       " 'lastEntry': 1681232725,\n",
       " 'priority': 100,\n",
       " 'title': 'Total CPU utilization',\n",
       " 'units': 'percentage'}"
      ]
     },
     "execution_count": 5,
     "metadata": {},
     "output_type": "execute_result"
    }
   ],
   "source": [
    "# get the charts available in the demo space\n",
    "charts = get_charts_cloud(space_id, room_id)\n",
    "charts['system.cpu']"
   ]
  }
 ],
 "metadata": {
  "kernelspec": {
   "display_name": "venv",
   "language": "python",
   "name": "python3"
  },
  "language_info": {
   "codemirror_mode": {
    "name": "ipython",
    "version": 3
   },
   "file_extension": ".py",
   "mimetype": "text/x-python",
   "name": "python",
   "nbconvert_exporter": "python",
   "pygments_lexer": "ipython3",
   "version": "3.10.6"
  },
  "vscode": {
   "interpreter": {
    "hash": "bfe63f9ecba214a279dcde80da2d17bc123d05fb330a6a73beea2ff07f9df766"
   }
  }
 },
 "nbformat": 4,
 "nbformat_minor": 4
}
